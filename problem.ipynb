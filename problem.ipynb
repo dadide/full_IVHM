{
 "metadata": {
  "language_info": {
   "codemirror_mode": {
    "name": "ipython",
    "version": 3
   },
   "file_extension": ".py",
   "mimetype": "text/x-python",
   "name": "python",
   "nbconvert_exporter": "python",
   "pygments_lexer": "ipython3",
   "version": 3
  },
  "orig_nbformat": 2
 },
 "nbformat": 4,
 "nbformat_minor": 2,
 "cells": [
  {
   "source": [
    "import subprocess command='sshpass -p 123 scp -C ./input/resultF.csv wy@202.121.180.27:/home/wy/matlab_example/scpTest/input/'\n",
    "\n",
    "command = 'cat upRm.log'\n",
    "pipe = subprocess.Popen(command, shell=True, stdout=subprocess.PIPE).stdout\n",
    "\n",
    "print(pipe.read())"
   ],
   "cell_type": "code",
   "metadata": {},
   "execution_count": null,
   "outputs": [
    {
     "output_type": "error",
     "ename": "Error",
     "evalue": "IPyKernel not installed into interpreter Python 2.7.16 64-bit:/usr/bin/python",
     "traceback": [
      "Error: IPyKernel not installed into interpreter Python 2.7.16 64-bit:/usr/bin/python",
      "at I.installDependenciesIntoInterpreter (/Users/ji/.vscode/extensions/ms-toolsai.jupyter-2020.12.414227025/out/client/extension.js:1:209187)",
      "at runMicrotasks (<anonymous>)",
      "at processTicksAndRejections (internal/process/task_queues.js:94:5)",
      "at async I.getKernelForLocalRawConnection (/Users/ji/.vscode/extensions/ms-toolsai.jupyter-2020.12.414227025/out/client/extension.js:1:207872)"
     ]
    }
   ]
  },
  {
   "source": [
    "how to use subprocess module and what is pipe in linux"
   ],
   "cell_type": "markdown",
   "metadata": {}
  },
  {
   "source": [
    "如何优雅地用 ctrl+C 结束当前运行的 while True 进程：\n",
    "https://stackoom.com/question/2b3Wn/收到KeyboardInterrupt时如何正确加入进程"
   ],
   "cell_type": "markdown",
   "metadata": {}
  },
  {
   "cell_type": "code",
   "execution_count": null,
   "metadata": {},
   "outputs": [],
   "source": [
    "如何查找到python运行的进程id号，再终止这个进程。"
   ]
  }
 ]
}